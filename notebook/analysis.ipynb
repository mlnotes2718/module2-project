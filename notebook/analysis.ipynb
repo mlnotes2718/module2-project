{
 "cells": [
  {
   "cell_type": "markdown",
   "metadata": {},
   "source": [
    "# Analysis"
   ]
  },
  {
   "cell_type": "code",
   "execution_count": 1,
   "metadata": {},
   "outputs": [],
   "source": [
    "import pandas as pd"
   ]
  },
  {
   "cell_type": "code",
   "execution_count": 2,
   "metadata": {},
   "outputs": [],
   "source": [
    "from google.cloud import bigquery\n",
    "from google.oauth2 import service_account\n",
    "credentials = service_account.Credentials.from_service_account_file(\n",
    "'../.keys/sctp-data-eng-ecomm-5e533c859ea1.json')\n",
    "\n",
    "project_id = 'sctp-data-eng-ecomm'\n",
    "client = bigquery.Client(credentials= credentials,project=project_id)"
   ]
  },
  {
   "cell_type": "code",
   "execution_count": 3,
   "metadata": {},
   "outputs": [],
   "source": [
    "query_job = client.query(\"\"\"\n",
    "   SELECT *\n",
    "   FROM ecomm_dev.fact_order_items\n",
    "   LIMIT 1000 \"\"\")\n",
    "\n",
    "#results = query_job.result() "
   ]
  },
  {
   "cell_type": "code",
   "execution_count": 4,
   "metadata": {},
   "outputs": [
    {
     "name": "stderr",
     "output_type": "stream",
     "text": [
      "/opt/miniconda3/envs/elt_bigq/lib/python3.10/site-packages/google/cloud/bigquery/table.py:1900: UserWarning: BigQuery Storage module not found, fetch data with the REST endpoint instead.\n",
      "  warnings.warn(\n"
     ]
    },
    {
     "name": "stdout",
     "output_type": "stream",
     "text": [
      "                           order_id  order_item_id  \\\n",
      "0  d455a8cb295653b55abda06d434ab492              1   \n",
      "1  7f39ba4c9052be115350065d07583cac              1   \n",
      "2  9dc8d1a6f16f1b89874c29c9d8d30447              1   \n",
      "3  06c07d5b2696b9631375e2877c955b3b              1   \n",
      "4  5cc6d864fa9e1a90eaf5207737549ffc              3   \n",
      "\n",
      "                         product_id                         seller_id  \\\n",
      "0  a2ff5a97bf95719e38ea2e3b4105bce8  0015a82c2db000af6aaaf3ae2ecb0532   \n",
      "1  a2ff5a97bf95719e38ea2e3b4105bce8  0015a82c2db000af6aaaf3ae2ecb0532   \n",
      "2  a2ff5a97bf95719e38ea2e3b4105bce8  0015a82c2db000af6aaaf3ae2ecb0532   \n",
      "3  08574b074924071f4e201e151b152b4e  001cca7ae9ae17fb1caed9dfb1094831   \n",
      "4  08574b074924071f4e201e151b152b4e  001cca7ae9ae17fb1caed9dfb1094831   \n",
      "\n",
      "  shipping_limit_date  price  freight_value                       customer_id  \\\n",
      "0 2017-10-12 22:24:16  895.0          21.02  944b72539d7e1f7f7fc6e46639ef1fe3   \n",
      "1 2017-10-24 23:56:20  895.0          21.02  d7fc82cbeafea77bd0a8fbbf6296e387   \n",
      "2 2017-10-18 14:49:22  895.0          21.02  d9442164acf4b03109425633efaa0cfc   \n",
      "3 2017-11-13 18:15:29   99.0          33.08  5fb9d23a8af73d1d81be9447185a10f7   \n",
      "4 2017-11-13 20:06:58   99.0          33.08  8b574f4c72ba3539b5a1cfe2429352a4   \n",
      "\n",
      "  order_status order_purchase_timestamp  ... order_delivered_carrier_date  \\\n",
      "0    delivered      2017-09-26 22:17:05  ...          2017-09-29 15:53:03   \n",
      "1    delivered      2017-10-18 08:16:34  ...          2017-10-20 14:29:01   \n",
      "2    delivered      2017-10-12 13:33:22  ...          2017-10-17 15:42:42   \n",
      "3    delivered      2017-11-06 18:08:17  ...          2017-11-08 19:28:44   \n",
      "4    delivered      2017-11-07 19:49:52  ...          2017-11-08 19:28:45   \n",
      "\n",
      "  order_delivered_customer_date order_estimated_delivery_date  \\\n",
      "0           2017-10-07 16:12:47                    2017-10-30   \n",
      "1           2017-10-27 16:46:05                    2017-11-09   \n",
      "2           2017-10-24 20:17:44                    2017-11-06   \n",
      "3           2017-11-13 20:28:45                    2017-11-27   \n",
      "4           2017-11-15 16:22:59                    2017-12-01   \n",
      "\n",
      "                 customer_unique_id        customer_city customer_state  \\\n",
      "0  3c7e305796add66698959fc7ad176f6b             umuarama             PR   \n",
      "1  9de5797cddb92598755a0f76383ddbbb  entre rios de minas             MG   \n",
      "2  9915eb9f74b6c11aaf04833f65b00e93             paracatu             MG   \n",
      "3  4d1816adb92709672c1c049f8756f542                cotia             SP   \n",
      "4  9300ffeb6ecbaeb37ebdb2120a28e1aa          nova iguacu             RJ   \n",
      "\n",
      "  payment_type payment_installments  payment_value  product_category_name  \n",
      "0  credit_card                   10         916.02       small_appliances  \n",
      "1  credit_card                    8         916.02       small_appliances  \n",
      "2  credit_card                    4         916.02       small_appliances  \n",
      "3  credit_card                    2         132.08           garden_tools  \n",
      "4  credit_card                    1         396.24           garden_tools  \n",
      "\n",
      "[5 rows x 21 columns]\n"
     ]
    }
   ],
   "source": [
    "# Convert results to a Pandas DataFrame\n",
    "df = query_job.to_dataframe()\n",
    "\n",
    "# Display the DataFrame\n",
    "print(df.head())"
   ]
  },
  {
   "cell_type": "code",
   "execution_count": null,
   "metadata": {},
   "outputs": [],
   "source": []
  }
 ],
 "metadata": {
  "kernelspec": {
   "display_name": "elt_bigq",
   "language": "python",
   "name": "python3"
  },
  "language_info": {
   "codemirror_mode": {
    "name": "ipython",
    "version": 3
   },
   "file_extension": ".py",
   "mimetype": "text/x-python",
   "name": "python",
   "nbconvert_exporter": "python",
   "pygments_lexer": "ipython3",
   "version": "3.10.16"
  }
 },
 "nbformat": 4,
 "nbformat_minor": 2
}
